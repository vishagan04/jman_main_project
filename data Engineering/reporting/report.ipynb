{
 "cells": [
  {
   "cell_type": "code",
   "execution_count": 3,
   "metadata": {},
   "outputs": [
    {
     "name": "stdout",
     "output_type": "stream",
     "text": [
      "Curated Reporting Table:\n",
      "   assessment_id  employee_id     employee_name                       email  \\\n",
      "0              1        17995       Tony Castro          fgates@example.org   \n",
      "1              2        15754   Heather Stanley        joseph06@example.org   \n",
      "2              3        49440      William Ryan       patrick46@example.net   \n",
      "3              4         9008  Jennifer Stewart  kristinaparker@example.org   \n",
      "4              5        12551     Thomas Garcia         oconner@example.com   \n",
      "\n",
      "                role          department  course_id  \\\n",
      "0   Business Analyst   Quality Assurance         46   \n",
      "1     Data Scientist   Quality Assurance        156   \n",
      "2  Software Engineer        Data Science        120   \n",
      "3     Data Scientist              DevOps         26   \n",
      "4     Data Scientist  Product Management         26   \n",
      "\n",
      "                          course_name competencyLevel  rating  skill_id  \\\n",
      "0                        Cloud Devops        advanced       2        31   \n",
      "1  Data Pipelines With Apache Airflow        beginner       5       120   \n",
      "2       Product Management Essentials        beginner       2        88   \n",
      "3       Product Management Essentials    intermediate       4        15   \n",
      "4       Product Management Essentials    intermediate       4         2   \n",
      "\n",
      "           skill_name  marks        date approvalStatus  \n",
      "0    Software Testing     79  2024-04-02       Approved  \n",
      "1  Automation Testing     87  2024-03-01       Approved  \n",
      "2    Data Engineering     54  2024-05-04        Pending  \n",
      "3     Cloud Computing     99  2024-06-05       Approved  \n",
      "4    Machine Learning     75  2024-03-14       Rejected  \n"
     ]
    }
   ],
   "source": [
    "import pandas as pd\n",
    "\n",
    "# Load the cleaned data from CSV files\n",
    "employees_df = pd.read_csv('../prep/employees_cleaned.csv')\n",
    "courses_df = pd.read_csv('../prep/courses_cleaned.csv')\n",
    "skills_df = pd.read_csv('../prep/skills_cleaned.csv')\n",
    "assessments_df = pd.read_csv('../prep/employee_skill_assessments_cleaned.csv')\n",
    "\n",
    "# 1. Merge employees with assessments on 'employee_id'\n",
    "employee_assessment_df = pd.merge(assessments_df, employees_df, how='inner', left_on='employee_Id', right_on='employee_id')\n",
    "\n",
    "# 2. Merge the resulting DataFrame with courses on 'course_id'\n",
    "employee_assessment_course_df = pd.merge(employee_assessment_df, courses_df, how='inner', on='course_id')\n",
    "\n",
    "# 3. Merge the resulting DataFrame with skills on 'skill_id'\n",
    "curated_df = pd.merge(employee_assessment_course_df, skills_df, how='inner', on='skill_id')\n",
    "\n",
    "# Reorder columns for better readability (optional)\n",
    "curated_df = curated_df[[\n",
    "    'assessment_id', 'employee_id', 'employee_name', 'email', 'role', 'department_x', \n",
    "    'course_id', 'course_name', 'competencyLevel', 'rating', 'skill_id', 'skill_name', \n",
    "    'marks', 'date', 'approvalStatus'\n",
    "]]\n",
    "\n",
    "# Rename 'department_x' to 'department'\n",
    "curated_df.rename(columns={'department_x': 'department'}, inplace=True)\n",
    "\n",
    "# Save the final curated table to a CSV file\n",
    "curated_df.to_csv('curated_report.csv', index=False)\n",
    "\n",
    "# Print the first few rows to verify the curated table\n",
    "print(\"Curated Reporting Table:\")\n",
    "print(curated_df.head())\n"
   ]
  }
 ],
 "metadata": {
  "kernelspec": {
   "display_name": "Python 3",
   "language": "python",
   "name": "python3"
  },
  "language_info": {
   "codemirror_mode": {
    "name": "ipython",
    "version": 3
   },
   "file_extension": ".py",
   "mimetype": "text/x-python",
   "name": "python",
   "nbconvert_exporter": "python",
   "pygments_lexer": "ipython3",
   "version": "3.12.5"
  }
 },
 "nbformat": 4,
 "nbformat_minor": 2
}
